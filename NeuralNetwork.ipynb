{
 "cells": [
  {
   "cell_type": "code",
   "execution_count": 1,
   "metadata": {
    "colab": {
     "base_uri": "https://localhost:8080/",
     "height": 54
    },
    "colab_type": "code",
    "executionInfo": {
     "elapsed": 387,
     "status": "ok",
     "timestamp": 1570575193704,
     "user": {
      "displayName": "JiaLang Huang",
      "photoUrl": "https://lh3.googleusercontent.com/a-/AAuE7mAYM6NxavIxqUmyuz6xQEdZ5ujhFanJDA4xPXJB=s64",
      "userId": "15621513465289356626"
     },
     "user_tz": 240
    },
    "id": "Tglsm50YkCLW",
    "outputId": "d90095c7-eb27-4cb4-b011-2f68cc776f02"
   },
   "outputs": [
    {
     "ename": "ModuleNotFoundError",
     "evalue": "No module named 'google'",
     "output_type": "error",
     "traceback": [
      "\u001b[1;31m---------------------------------------------------------------------------\u001b[0m",
      "\u001b[1;31mModuleNotFoundError\u001b[0m                       Traceback (most recent call last)",
      "\u001b[1;32m<ipython-input-1-d5df0069828e>\u001b[0m in \u001b[0;36m<module>\u001b[1;34m\u001b[0m\n\u001b[1;32m----> 1\u001b[1;33m \u001b[1;32mfrom\u001b[0m \u001b[0mgoogle\u001b[0m\u001b[1;33m.\u001b[0m\u001b[0mcolab\u001b[0m \u001b[1;32mimport\u001b[0m \u001b[0mdrive\u001b[0m\u001b[1;33m\u001b[0m\u001b[1;33m\u001b[0m\u001b[0m\n\u001b[0m\u001b[0;32m      2\u001b[0m \u001b[0mdrive\u001b[0m\u001b[1;33m.\u001b[0m\u001b[0mmount\u001b[0m\u001b[1;33m(\u001b[0m\u001b[1;34m'/content/drive'\u001b[0m\u001b[1;33m)\u001b[0m\u001b[1;33m\u001b[0m\u001b[1;33m\u001b[0m\u001b[0m\n",
      "\u001b[1;31mModuleNotFoundError\u001b[0m: No module named 'google'"
     ]
    }
   ],
   "source": [
    "from google.colab import drive\n",
    "drive.mount('/content/drive')"
   ]
  },
  {
   "cell_type": "code",
   "execution_count": 3,
   "metadata": {
    "colab": {
     "base_uri": "https://localhost:8080/",
     "height": 34
    },
    "colab_type": "code",
    "executionInfo": {
     "elapsed": 407,
     "status": "ok",
     "timestamp": 1570575194738,
     "user": {
      "displayName": "JiaLang Huang",
      "photoUrl": "https://lh3.googleusercontent.com/a-/AAuE7mAYM6NxavIxqUmyuz6xQEdZ5ujhFanJDA4xPXJB=s64",
      "userId": "15621513465289356626"
     },
     "user_tz": 240
    },
    "id": "RJ9AQoP4j9tm",
    "outputId": "a43316b6-0f92-484d-ab73-b7b670778997"
   },
   "outputs": [
    {
     "name": "stdout",
     "output_type": "stream",
     "text": [
      "C:/Users/Jialang/Google Drive/Colab Notebooks/CSE474HW2/data/fashion\n"
     ]
    }
   ],
   "source": [
    "import os\n",
    "import pandas as pd\n",
    "import numpy as np\n",
    "from sklearn import preprocessing\n",
    "import matplotlib.pyplot as plt \n",
    "from sklearn.linear_model import LogisticRegression\n",
    "from sklearn.model_selection import train_test_split\n",
    "\n",
    "path = ''\n",
    "if os.path.isdir('/content/drive/My Drive/Colab Notebooks/CSE474HW2/data/fashion'):#on ghoogle drive\n",
    "     path = '/content/drive/My Drive/Colab Notebooks/CSE474HW2/data/fashion'\n",
    "elif os.path.isdir('C:/Users/Jialang/Google Drive/Colab Notebooks/CSE474HW2/data/fashion'): #on local\n",
    "     path ='C:/Users/Jialang/Google Drive/Colab Notebooks/CSE474HW2/data/fashion'\n",
    "elif os.path.isdir('C:/Users/JiaLang\\' Desktop/Google Drive/Colab Notebooks/CSE474HW2/data (1)/fashion'):\n",
    "     path = 'C:/Users/JiaLang\\' Desktop/Google Drive/Colab Notebooks/CSE474HW2/data (1)/fashion'\n",
    "    \n",
    "    \n",
    "print(path)"
   ]
  },
  {
   "cell_type": "code",
   "execution_count": 4,
   "metadata": {
    "colab": {
     "base_uri": "https://localhost:8080/",
     "height": 380
    },
    "colab_type": "code",
    "executionInfo": {
     "elapsed": 412,
     "status": "error",
     "timestamp": 1570575253908,
     "user": {
      "displayName": "JiaLang Huang",
      "photoUrl": "https://lh3.googleusercontent.com/a-/AAuE7mAYM6NxavIxqUmyuz6xQEdZ5ujhFanJDA4xPXJB=s64",
      "userId": "15621513465289356626"
     },
     "user_tz": 240
    },
    "id": "5t42mpMMj9tr",
    "outputId": "33ed0dd4-9905-4399-b74c-8bb34aecd338"
   },
   "outputs": [
    {
     "name": "stdout",
     "output_type": "stream",
     "text": [
      "C:/Users/Jialang/Google Drive/Colab Notebooks/CSE474HW2/data/fashion\n"
     ]
    }
   ],
   "source": [
    "# Read Fashion MNIST dataset\n",
    "\n",
    "import sys\n",
    "\n",
    "import util_mnist_reader\n",
    "print(path)\n",
    "X_train, y_train = util_mnist_reader.load_mnist(path, kind='train')\n",
    "X_test, y_test = util_mnist_reader.load_mnist(path, kind='t10k')\n",
    "\n",
    "# Your code goes here . . ."
   ]
  },
  {
   "cell_type": "code",
   "execution_count": 5,
   "metadata": {
    "colab": {
     "base_uri": "https://localhost:8080/",
     "height": 239
    },
    "colab_type": "code",
    "executionInfo": {
     "elapsed": 1284,
     "status": "error",
     "timestamp": 1570575159599,
     "user": {
      "displayName": "JiaLang Huang",
      "photoUrl": "https://lh3.googleusercontent.com/a-/AAuE7mAYM6NxavIxqUmyuz6xQEdZ5ujhFanJDA4xPXJB=s64",
      "userId": "15621513465289356626"
     },
     "user_tz": 240
    },
    "id": "9C-zShfqj9tu",
    "outputId": "4e2bde6b-1584-4dfc-93de-2a5b47a6c21a"
   },
   "outputs": [
    {
     "name": "stdout",
     "output_type": "stream",
     "text": [
      "(60000, 784) (10000, 784)\n",
      "(60000,) (10000,)\n",
      "60000 10000\n"
     ]
    },
    {
     "data": {
      "text/plain": [
       "<matplotlib.image.AxesImage at 0x299b54f38d0>"
      ]
     },
     "execution_count": 5,
     "metadata": {},
     "output_type": "execute_result"
    },
    {
     "data": {
      "image/png": "[encoded data removed]",
      "text/plain": [
       "<Figure size 432x288 with 1 Axes>"
      ]
     },
     "metadata": {},
     "output_type": "display_data"
    }
   ],
   "source": [
    "from skimage.util import img_as_float\n",
    "print(X_train.shape,X_test.shape)\n",
    "print(y_train.shape,y_test.shape)\n",
    "print(len(y_train),len(y_test))\n",
    "plt.imshow(X_train[480].reshape(28,28),cmap='binary')\n"
   ]
  },
  {
   "cell_type": "code",
   "execution_count": 6,
   "metadata": {
    "colab": {},
    "colab_type": "code",
    "id": "J61g-EePj9t2"
   },
   "outputs": [],
   "source": [
    "#sigmoid function\n",
    "def sigmoid(z):\n",
    "        return 1/(1+np.exp(-z))\n",
    "\n",
    "#softmax function \n",
    "def softmax(z):\n",
    "    max_z = np.max(z,axis=0,keepdims=True)\n",
    "    exp_z = np.exp(z-max_z)\n",
    "    return_z = exp_z/np.sum(exp_z,axis = 0,keepdims = True)\n",
    "    return return_z\n",
    "#activation function: ReLU\n",
    "def ReLU(x):\n",
    "    return np.maximum(0,x)\n",
    "\n",
    "#function to compute the loss for the one hiiden layer model\n",
    "def compute_multiclass_loss(Y, Y_hat):\n",
    "\n",
    "    L_sum = np.sum(np.multiply(Y, np.log(Y_hat)))\n",
    "    m = Y.shape[1]\n",
    "    L = -(1/m) * L_sum\n",
    "\n",
    "    return L\n",
    "\n",
    "# to compute the accuracy after the predicted the data\n",
    "def compareAccurcy(y_test,y_pred):\n",
    "    accuracy =0\n",
    "    for i in range(len(y_test)):\n",
    "        if y_test[i] == y_pred[i]:\n",
    "            accuracy +=1\n",
    "    \n",
    "    return accuracy/len(y_test)\n",
    "\n",
    "#to predict after trainind\n",
    "def predict_new(W1,W2,b1,b2,X):\n",
    "    Z1 = np.matmul(W1,X) + b1\n",
    "    A1 = sigmoid(Z1)\n",
    "    Z2 = np.matmul(W2,A1) + b2\n",
    "    A2 = softmax(Z2)#np.exp(Z2) / np.sum(np.exp(Z2), axis=0)\n",
    "    return A2"
   ]
  },
  {
   "cell_type": "code",
   "execution_count": 5,
   "metadata": {
    "colab": {},
    "colab_type": "code",
    "id": "zE1iG1S7j9t6"
   },
   "outputs": [],
   "source": [
    "#show the train accaucy and validation accurcay vs number of epochs, train loss and validation loss vs number of epochs \n",
    "def plotGraph(train_losstrack,valid_losstrack,train_acc,valid_acc,learning_rate,hidden_units):\n",
    "        epochs = range(len(train_losstrack))\n",
    "        plt.figure(figsize=(15,5))\n",
    "        \n",
    "        \n",
    "        plt.subplot(1,2,1)\n",
    "        plt.plot(epochs, train_acc, 'green', label='Training accuracy')\n",
    "        plt.plot(epochs, valid_acc, 'red', label='Validation accuracy')\n",
    "        plt.xlabel('Number of epochs')\n",
    "        plt.title(\"Training and validation accuracy at learning rate: %.3f, hidden units:%d\"%(learning_rate,hidden_units))\n",
    "        plt.legend()\n",
    "        #plt.figure()\n",
    "        \n",
    "        plt.subplot(2,2,2)\n",
    "        plt.plot(epochs, train_losstrack, 'green', label='Training loss')\n",
    "        plt.plot(epochs, valid_losstrack, 'red', label='Validation loss')\n",
    "        plt.xlabel('Number of epochs')\n",
    "        plt.title(\"Training and validation loss at learning rate: %.3f, hidden units: %d\"%(learning_rate,hidden_units))\n",
    "        plt.legend()\n",
    "        plt.show()\n",
    "\n",
    "\n",
    "#model for one hidden layer\n",
    "#training set, validation set, epochs, learning rate, and the number of hidden units\n",
    "def one_hidden_layer(train_X,train_Y,vali_X,vali_y,epochs,learning_rate,hidden_units):\n",
    "   \n",
    "    #initial all parameter\n",
    "    input_size = train_X.shape[0]\n",
    "    hidden_layer_units = hidden_units\n",
    "    output_size = 10\n",
    "    \n",
    "    Y_vali = vali_y\n",
    "    X_vali = vali_X\n",
    "    \n",
    "    X = train_X\n",
    "    Y = train_Y\n",
    "    \n",
    "    train_losstrack = []\n",
    "    valid_losstrack = []\n",
    "    \n",
    "    train_acc = []\n",
    "    valid_acc = []\n",
    "    \n",
    "    #length of the input\n",
    "    m = X.shape[1]\n",
    "    \n",
    "    #hidden layer\n",
    "    W1 =  np.random.randn(hidden_layer_units,input_size,)#width,depth \n",
    "    b1 = np.zeros((hidden_layer_units,1))\n",
    "    \n",
    "    #output layer\n",
    "    W2 =  np.random.randn(output_size,hidden_layer_units)\n",
    "    b2 = np.zeros((output_size,1))\n",
    "    \n",
    "    N,D = train_X.shape\n",
    "    \n",
    "    for epoch in range(epochs+1):\n",
    "        \n",
    "        #forward:\n",
    "        Z1 = np.matmul(W1,X) + b1\n",
    "        A1 = sigmoid(Z1)\n",
    "        Z2 = np.matmul(W2,A1) + b2\n",
    "        A2 = softmax(Z2)#np.exp(Z2) / np.sum(np.exp(Z2), axis=0)\n",
    "        \n",
    "        #loss function\n",
    "        cost = compute_multiclass_loss(Y, A2)\n",
    "        train_losstrack.append(cost)\n",
    "        tra_acc = compareAccurcy(np.argmax(A2,axis=0),np.argmax(Y,axis=0))\n",
    "        train_acc.append(tra_acc)\n",
    "        \n",
    "        #Backpropogation\n",
    "        dZ2 = A2-Y\n",
    "        dW2 = (1./m) * np.matmul(dZ2, A1.T)\n",
    "        db2 = (1./m) * np.sum(dZ2, axis=1, keepdims=True)\n",
    "\n",
    "        dA1 = np.matmul(W2.T, dZ2)\n",
    "        dZ1 = dA1 * sigmoid(Z1) * (1 - sigmoid(Z1))\n",
    "        dW1 = (1./m) * np.matmul(dZ1, X.T)\n",
    "        db1 = (1./m) * np.sum(dZ1, axis=1, keepdims=True)\n",
    "\n",
    "        W2 = W2 - learning_rate * dW2\n",
    "        b2 = b2 - learning_rate * db2\n",
    "        W1 = W1 - learning_rate * dW1\n",
    "        b1 = b1 - learning_rate * db1\n",
    "        \n",
    "        \n",
    "        ## to validate the data\n",
    "        pre_vali = predict_new(W1,W2,b1,b2,vali_X)\n",
    "        vali_cost = compute_multiclass_loss(Y_vali, pre_vali)\n",
    "        va_acc = compareAccurcy(np.argmax(pre_vali,axis=0),np.argmax(Y_vali,axis=0))\n",
    "        valid_losstrack.append(vali_cost)\n",
    "        valid_acc.append(va_acc)\n",
    "\n",
    "        if(epoch % 10 == 0):\n",
    "            print(\"Epoch: %d/%d, train cost: %.3f, valid cost: %.3f, train acc: %.3f, valid acc: %.3f\"%(epoch,epochs,cost,vali_cost,tra_acc,va_acc))\n",
    "        \n",
    "    \n",
    "    return W1,W2,b1,b2,train_losstrack,valid_losstrack,train_acc,valid_acc"
   ]
  },
  {
   "cell_type": "code",
   "execution_count": 7,
   "metadata": {},
   "outputs": [
    {
     "name": "stdout",
     "output_type": "stream",
     "text": [
      "(48000, 784) (12000, 784) (48000,) (12000,)\n"
     ]
    }
   ],
   "source": [
    "#seperate the train data into train and validarion, 80% for training and 20% for validation\n",
    "from sklearn.model_selection import train_test_split\n",
    "snn_train_X,snn_valid_X,snn_train_label,snn_valid_label = train_test_split(X_train, y_train, test_size=0.2, random_state=13)\n",
    "print(snn_train_X.shape,snn_valid_X.shape,snn_train_label.shape,snn_valid_label.shape)\n",
    "\n",
    "#normalize the data set\n",
    "snn_train_X = snn_train_X/255\n",
    "snn_valid_X = snn_valid_X/255\n",
    "\n",
    "#train data\n",
    "n_Ytrain = snn_train_label.shape[0]\n",
    "snn_Y_train = snn_train_label.reshape(1,n_Ytrain)\n",
    "snn_Y_train = np.eye(10)[snn_train_label.astype('int32')]\n",
    "snn_Y_train = snn_Y_train.T.reshape(10,n_Ytrain)\n",
    "\n",
    "\n",
    "#vali data\n",
    "n_Yvali = snn_valid_label.shape[0]\n",
    "snn_Y_vali = snn_valid_label.reshape(1,n_Yvali)\n",
    "snn_Y_vali = np.eye(10)[snn_valid_label.astype('int32')]\n",
    "snn_Y_vali = snn_Y_vali.T.reshape(10,n_Yvali)\n",
    "\n"
   ]
  },
  {
   "cell_type": "code",
   "execution_count": 8,
   "metadata": {
    "colab": {},
    "colab_type": "code",
    "id": "TJhbTYZNj9t8"
   },
   "outputs": [
    {
     "ename": "NameError",
     "evalue": "name 'one_hidden_layer' is not defined",
     "output_type": "error",
     "traceback": [
      "\u001b[1;31m---------------------------------------------------------------------------\u001b[0m",
      "\u001b[1;31mNameError\u001b[0m                                 Traceback (most recent call last)",
      "\u001b[1;32m<ipython-input-8-348f0916e3ac>\u001b[0m in \u001b[0;36m<module>\u001b[1;34m()\u001b[0m\n\u001b[0;32m      5\u001b[0m \u001b[1;33m\u001b[0m\u001b[0m\n\u001b[0;32m      6\u001b[0m \u001b[1;31m#train the data\u001b[0m\u001b[1;33m\u001b[0m\u001b[1;33m\u001b[0m\u001b[0m\n\u001b[1;32m----> 7\u001b[1;33m \u001b[0mw1\u001b[0m\u001b[1;33m,\u001b[0m\u001b[0mw2\u001b[0m\u001b[1;33m,\u001b[0m\u001b[0mb1\u001b[0m\u001b[1;33m,\u001b[0m\u001b[0mb2\u001b[0m\u001b[1;33m,\u001b[0m\u001b[0mloss\u001b[0m\u001b[1;33m,\u001b[0m\u001b[0mvalid_loss\u001b[0m\u001b[1;33m,\u001b[0m\u001b[0macc\u001b[0m\u001b[1;33m,\u001b[0m\u001b[0mvalid_acc\u001b[0m\u001b[1;33m=\u001b[0m \u001b[0mone_hidden_layer\u001b[0m\u001b[1;33m(\u001b[0m\u001b[0msnn_train_X\u001b[0m\u001b[1;33m.\u001b[0m\u001b[0mT\u001b[0m\u001b[1;33m,\u001b[0m\u001b[0msnn_Y_train\u001b[0m\u001b[1;33m,\u001b[0m\u001b[0msnn_valid_X\u001b[0m\u001b[1;33m.\u001b[0m\u001b[0mT\u001b[0m\u001b[1;33m,\u001b[0m\u001b[0msnn_Y_vali\u001b[0m\u001b[1;33m,\u001b[0m\u001b[0mepochs\u001b[0m\u001b[1;33m,\u001b[0m\u001b[0mlearning_rate\u001b[0m\u001b[1;33m,\u001b[0m\u001b[0mhidden_units\u001b[0m\u001b[1;33m)\u001b[0m\u001b[1;33m\u001b[0m\u001b[0m\n\u001b[0m\u001b[0;32m      8\u001b[0m \u001b[1;33m\u001b[0m\u001b[0m\n\u001b[0;32m      9\u001b[0m \u001b[1;33m\u001b[0m\u001b[0m\n",
      "\u001b[1;31mNameError\u001b[0m: name 'one_hidden_layer' is not defined"
     ]
    }
   ],
   "source": [
    "#set up the hyper-parameter\n",
    "epochs = 1000\n",
    "learning_rate = 0.65\n",
    "hidden_units = 128\n",
    "\n",
    "#train the data\n",
    "w1,w2,b1,b2,loss,valid_loss,acc,valid_acc= one_hidden_layer(snn_train_X.T,snn_Y_train,snn_valid_X.T,snn_Y_vali,epochs,learning_rate,hidden_units)\n",
    "\n",
    "\n",
    "#show a graph\n",
    "plotGraph(loss,valid_loss,acc,valid_acc,learning_rate,hidden_units)\n",
    "\n",
    "\n"
   ]
  },
  {
   "cell_type": "code",
   "execution_count": 8,
   "metadata": {},
   "outputs": [
    {
     "name": "stdout",
     "output_type": "stream",
     "text": [
      "Test accuracy:0.805\n"
     ]
    }
   ],
   "source": [
    "#normalize the data set\n",
    "snn_test_X = X_test/255\n",
    "\n",
    "\n",
    "#train data\n",
    "n_Ytest = y_test.shape[0]\n",
    "snn_Y_test = y_test.reshape(1,n_Ytest)\n",
    "snn_Y_test = np.eye(10)[y_test.astype('int32')]\n",
    "snn_Y_test = snn_Y_test.T.reshape(10,n_Ytest)\n",
    "\n",
    "\n",
    "test_pred = predict_new(w1,w2,b1,b2,snn_test_X.T)\n",
    "test_acc = compareAccurcy(np.argmax(snn_Y_test ,axis=0),np.argmax(test_pred,axis=0))\n",
    "\n",
    "print(\"Test accuracy:%.3f\"%(test_acc))"
   ]
  },
  {
   "cell_type": "code",
   "execution_count": null,
   "metadata": {},
   "outputs": [],
   "source": []
  },
  {
   "cell_type": "code",
   "execution_count": 357,
   "metadata": {},
   "outputs": [
    {
     "data": {
      "text/plain": [
       "((48000, 784), (12000, 784), (48000, 10), (12000, 10))"
      ]
     },
     "execution_count": 357,
     "metadata": {},
     "output_type": "execute_result"
    }
   ],
   "source": [
    "#multi-layer nerual network\n",
    "import keras\n",
    "from keras.models import Sequential,Input,Model\n",
    "from keras.layers import Dense, Dropout, Flatten\n",
    "from keras.layers import Conv2D, MaxPooling2D\n",
    "from keras.layers.normalization import BatchNormalization\n",
    "from keras.layers.advanced_activations import LeakyReLU\n",
    "\n",
    "# normalize the data set\n",
    "MNN_train_Y = to_categorical(y_train)\n",
    "MNN_test_Y= to_categorical(y_test)\n",
    "\n",
    "MNN_train_X = X_train.astype('float32')\n",
    "MNN_test_X = X_test.astype('float32')\n",
    "MNN_train_X = MNN_train_X / 255.\n",
    "MNN_test_X = MNN_test_X / 255.\n",
    "\n",
    "#seperate the data into train data and vali data\n",
    "from sklearn.model_selection import train_test_split\n",
    "MNN_train_X,MNN_valid_X,MNN_train_label,MNN_valid_label = train_test_split(MNN_train_X, MNN_train_Y, test_size=0.2, random_state=10)\n",
    "MNN_train_X.shape,MNN_valid_X.shape,MNN_train_label.shape,MNN_valid_label.shape\n"
   ]
  },
  {
   "cell_type": "code",
   "execution_count": 1,
   "metadata": {
    "colab": {},
    "colab_type": "code",
    "id": "Pkq8Zj5Vj9uG",
    "outputId": "8f695c42-6c3c-473a-eb0f-488c53337be7"
   },
   "outputs": [
    {
     "name": "stderr",
     "output_type": "stream",
     "text": [
      "C:\\Users\\Jialang\\Anaconda3\\lib\\site-packages\\h5py\\__init__.py:36: FutureWarning: Conversion of the second argument of issubdtype from `float` to `np.floating` is deprecated. In future, it will be treated as `np.float64 == np.dtype(float).type`.\n",
      "  from ._conv import register_converters as _register_converters\n",
      "Using TensorFlow backend.\n"
     ]
    }
   ],
   "source": [
    "import keras\n",
    "from keras.models import Sequential,Input,Model\n",
    "from keras.layers import Dense, Dropout, Flatten\n",
    "from keras.layers import Conv2D, MaxPooling2D\n",
    "from keras.layers.normalization import BatchNormalization\n",
    "from keras.layers.advanced_activations import LeakyReLU\n",
    "\n",
    "#Multi-Layer Neural Network Model\n",
    "class MNN_model():\n",
    "    #initial the model\n",
    "    def __init__ (self):\n",
    "        self.my_model = Sequential()\n",
    "        self.batch_size = 200\n",
    "        self.epochs = 20\n",
    "        self.lr = 0.5\n",
    "        self.num_class = 10\n",
    "        self.num_hidden = 1\n",
    "        self.num_hidden_units = 200\n",
    "        self.optimizer = keras.optimizers.Adam()\n",
    "        self.activationfunction = 'sigmoid'\n",
    "        \n",
    "    # change learning rate, batch size,epochs,active function, number of hidden layers and number of each hidden layer's units\n",
    "    def setHyper_parameter(self,lr,batch_size,epochs,active_fun,number_hidden,hidden_units):\n",
    "        self.lr = lr \n",
    "        self.batch_size = batch_size \n",
    "        self.epochs = epochs \n",
    "        self.optimizer = keras.optimizers.SGD(lr = self.lr,momentum=0.0,nesterov=False)\n",
    "        self.activationfunction = active_fun\n",
    "        self.num_hidden = number_hidden\n",
    "        self.num_hidden_units = hidden_units\n",
    "    \n",
    "    #train the model\n",
    "    def train_model(self,train_X,train_label,valid_x,valid_label):\n",
    "        self.my_model = Sequential()\n",
    "        \n",
    "        # Add an input layer \n",
    "        self.my_model.add(Dense(self.num_hidden_units, activation=self.activationfunction, input_shape=(784,)))\n",
    "\n",
    "        # Add hidden layers \n",
    "        for i in range(self.num_hidden):\n",
    "            self.my_model.add(Dense(self.num_hidden_units, activation=self.activationfunction))\n",
    "\n",
    "        # Add an output layer \n",
    "        self.my_model.add(Dense(10, activation='softmax'))\n",
    "\n",
    "        # train the data\n",
    "        self.my_model.compile(loss=keras.losses.categorical_crossentropy, optimizer=self.optimizer,metrics=['accuracy'])\n",
    "        #self.train_model = self.my_model.fit(train_X, train_label, batch_size=self.batch_size,epochs=self.epochs,verbose=1,validation_data=(valid_x,valid_label))\n",
    "        \n",
    "        \n",
    "    #Function to plot the graph of training loss vs number of epochs while training \n",
    "    #and training accuracy vs number of epochs       \n",
    "    def showGraph(self):\n",
    "        accuracy = self.train_model.history['acc']\n",
    "        val_accuracy = self.train_model.history['val_acc']\n",
    "        loss = self.train_model.history['loss']\n",
    "        val_loss = self.train_model.history['val_loss']\n",
    "        epochs = range(len(accuracy))\n",
    "        plt.figure(figsize=(15,5))\n",
    "        \n",
    "        \n",
    "       \n",
    "        \n",
    "        plt.subplot(1,2,1)\n",
    "        plt.plot(epochs, accuracy, 'bo', label='Training accuracy')\n",
    "        plt.plot(epochs, val_accuracy, 'b', label='Validation accuracy')\n",
    "        plt.xlabel('Number of epochs')\n",
    "        plt.title(\"Training and validation accuracy at learning rate: %.3f, batch size:%d\"%(self.lr,self.batch_size))\n",
    "        plt.legend()\n",
    "        #plt.figure()\n",
    "        \n",
    "        plt.subplot(2,2,2)\n",
    "        plt.plot(epochs, loss, 'bo', label='Training loss')\n",
    "        plt.plot(epochs, val_loss, 'b', label='Validation loss')\n",
    "        plt.xlabel('Number of epochs')\n",
    "        plt.title(\"Training and validation loss at learning rate: %.3f, batch size:%d\"%(self.lr,self.batch_size))\n",
    "        plt.legend()\n",
    "        plt.show()\n",
    "    \n",
    "    #function to predict the test data\n",
    "    def predict(self,mnn_test_x,mnn_test_label):\n",
    "        test_eval = self.my_model.evaluate(mnn_test_x, mnn_test_label, verbose=1)\n",
    "        print('Test loss:', test_eval[0])\n",
    "        print('Test accuracy:', test_eval[1])"
   ]
  },
  {
   "cell_type": "code",
   "execution_count": 2,
   "metadata": {},
   "outputs": [
    {
     "ename": "NameError",
     "evalue": "name 'MNN_train_X' is not defined",
     "output_type": "error",
     "traceback": [
      "\u001b[1;31m---------------------------------------------------------------------------\u001b[0m",
      "\u001b[1;31mNameError\u001b[0m                                 Traceback (most recent call last)",
      "\u001b[1;32m<ipython-input-2-c0949d1fb38f>\u001b[0m in \u001b[0;36m<module>\u001b[1;34m()\u001b[0m\n\u001b[0;32m     12\u001b[0m \u001b[0mmy\u001b[0m \u001b[1;33m=\u001b[0m \u001b[0mMNN_model\u001b[0m\u001b[1;33m(\u001b[0m\u001b[1;33m)\u001b[0m\u001b[1;33m\u001b[0m\u001b[0m\n\u001b[0;32m     13\u001b[0m \u001b[0mmy\u001b[0m\u001b[1;33m.\u001b[0m\u001b[0msetHyper_parameter\u001b[0m\u001b[1;33m(\u001b[0m\u001b[0mlearning_rate\u001b[0m \u001b[1;33m,\u001b[0m\u001b[0mbatch_size\u001b[0m\u001b[1;33m,\u001b[0m\u001b[0mepochs\u001b[0m\u001b[1;33m,\u001b[0m\u001b[0mactive_function\u001b[0m\u001b[1;33m,\u001b[0m\u001b[0mnumber_hidden_layers\u001b[0m\u001b[1;33m,\u001b[0m\u001b[0mnumber_hidden_units\u001b[0m\u001b[1;33m)\u001b[0m\u001b[1;33m\u001b[0m\u001b[0m\n\u001b[1;32m---> 14\u001b[1;33m \u001b[0mmy\u001b[0m\u001b[1;33m.\u001b[0m\u001b[0mtrain_model\u001b[0m\u001b[1;33m(\u001b[0m\u001b[0mMNN_train_X\u001b[0m\u001b[1;33m,\u001b[0m\u001b[0mMNN_train_label\u001b[0m\u001b[1;33m,\u001b[0m\u001b[0mMNN_valid_X\u001b[0m\u001b[1;33m,\u001b[0m\u001b[0mMNN_valid_label\u001b[0m\u001b[1;33m)\u001b[0m\u001b[1;33m\u001b[0m\u001b[0m\n\u001b[0m\u001b[0;32m     15\u001b[0m \u001b[0mmy\u001b[0m\u001b[1;33m.\u001b[0m\u001b[0mshowGraph\u001b[0m\u001b[1;33m(\u001b[0m\u001b[1;33m)\u001b[0m\u001b[1;33m\u001b[0m\u001b[0m\n\u001b[0;32m     16\u001b[0m \u001b[0mMNN_test_X\u001b[0m\u001b[1;33m.\u001b[0m\u001b[0mshape\u001b[0m\u001b[1;33m,\u001b[0m\u001b[0mMNN_test_Y\u001b[0m\u001b[1;33m.\u001b[0m\u001b[0mshape\u001b[0m\u001b[1;33m\u001b[0m\u001b[0m\n",
      "\u001b[1;31mNameError\u001b[0m: name 'MNN_train_X' is not defined"
     ]
    }
   ],
   "source": [
    "#train the data via multi-layer neural network model\n",
    "#set up the hyper-parameters\n",
    "learning_rate = 0.35\n",
    "batch_size = 128\n",
    "epochs = 100\n",
    "active_function = 'sigmoid'\n",
    "number_hidden_layers = 3\n",
    "number_hidden_units = 200\n",
    "\n",
    "\n",
    "#create a Multi-layer Neural Network\n",
    "my = MNN_model()\n",
    "my.setHyper_parameter(learning_rate ,batch_size,epochs,active_function,number_hidden_layers,number_hidden_units)\n",
    "my.train_model(MNN_train_X,MNN_train_label,MNN_valid_X,MNN_valid_label)\n",
    "my.showGraph()\n",
    "MNN_test_X.shape,MNN_test_Y.shape\n",
    "my.predict(MNN_test_X,MNN_test_Y)\n"
   ]
  },
  {
   "cell_type": "code",
   "execution_count": 381,
   "metadata": {},
   "outputs": [],
   "source": [
    "#convolution neural network model\n",
    "import keras\n",
    "from keras.models import Sequential,Input,Model\n",
    "from keras.layers import Dense, Dropout, Flatten\n",
    "from keras.layers import Conv2D, MaxPooling2D\n",
    "from keras.layers.normalization import BatchNormalization\n",
    "from keras.layers.advanced_activations import LeakyReLU\n",
    "\n",
    "class CNN_model():\n",
    "    def __init__ (self):\n",
    "        self.my_model = Sequential()\n",
    "        self.batch_size = 200\n",
    "        self.epochs = 20\n",
    "        self.lr = 0.5\n",
    "        self.num_class = 10\n",
    "        self.optimizer = keras.optimizers.Adam()\n",
    "        self.activationfunction = 'sigmoid'\n",
    "        \n",
    "    \n",
    "    def setHyper_parameter(self,lr,batch_size,epochs,active_fun):\n",
    "        self.lr = lr\n",
    "        self.batch_size = batch_size\n",
    "        self.epochs = epochs\n",
    "        self.optimizer = keras.optimizers.SGD(lr = self.lr,momentum=0.0,nesterov=False)\n",
    "        self.activationfunction = active_fun \n",
    "    \n",
    "    def train_model(self,train_X,train_label,valid_x,valid_label):\n",
    "        self.my_model = Sequential()\n",
    "        #input conv2d\n",
    "        self.my_model.add(Conv2D(64, kernel_size=(2, 2),activation=self.activationfunction,input_shape=(28,28,1),padding='same'))\n",
    "        self.my_model.add(MaxPooling2D((2, 2),padding='same'))\n",
    "        \n",
    "        #hidden conv2d\n",
    "        self.my_model.add(Conv2D(32, (2, 2), activation=self.activationfunction,padding='same'))\n",
    "        self.my_model.add(MaxPooling2D(pool_size=(2, 2),padding='same'))\n",
    "\n",
    "        #output dense\n",
    "        self.my_model.add(Flatten())\n",
    "        self.my_model.add(Dense(256, activation='sigmoid'))             \n",
    "        self.my_model.add(Dense(self.num_class, activation='softmax'))\n",
    "        \n",
    "        \n",
    "        self.my_model.compile(loss=keras.losses.categorical_crossentropy, optimizer=self.optimizer,metrics=['accuracy'])\n",
    "        self.train_model = self.my_model.fit(train_X, train_label, batch_size=self.batch_size,epochs=self.epochs,verbose=1,validation_data=(valid_X, valid_label))\n",
    "    \n",
    "    def showGraph(self):\n",
    "        accuracy = self.train_model.history['acc']\n",
    "        val_accuracy = self.train_model.history['val_acc']\n",
    "        loss = self.train_model.history['loss']\n",
    "        val_loss = self.train_model.history['val_loss']\n",
    "        epochs = range(len(accuracy))\n",
    "        plt.figure(figsize=(15,5))\n",
    "        \n",
    "        plt.subplot(1,2,1)\n",
    "        plt.xlabel('Number of epochs')\n",
    "        plt.plot(epochs, accuracy, 'bo', label='Training accuracy')\n",
    "        plt.plot(epochs, val_accuracy, 'b', label='Validation accuracy')\n",
    "        plt.title(\"Training and validation accuracy at learning rate: %.3f, batch size:%d\"%(self.lr,self.batch_size))\n",
    "        plt.legend()\n",
    "       \n",
    "        plt.subplot(1,2,2)\n",
    "        plt.xlabel('Number of epochs')\n",
    "        plt.plot(epochs, loss, 'bo', label='Training loss')\n",
    "        plt.plot(epochs, val_loss, 'b', label='Validation loss')\n",
    "        plt.title(\"Training and validation loss at learning rate: %.3f, batch size:%d\"%(self.lr,self.batch_size))\n",
    "        plt.legend()\n",
    "        plt.show()\n",
    "    \n",
    "    \n",
    "    def predict(self,test_x,test_label):\n",
    "        test_eval = self.my_model.evaluate(test_X, test_label, verbose=1)\n",
    "        print('Test loss:', test_eval[0])\n",
    "        print('Test accuracy:', test_eval[1])"
   ]
  },
  {
   "cell_type": "code",
   "execution_count": 338,
   "metadata": {},
   "outputs": [
    {
     "name": "stderr",
     "output_type": "stream",
     "text": [
      "C:\\Users\\Jialang\\Anaconda3\\lib\\site-packages\\h5py\\__init__.py:36: FutureWarning: Conversion of the second argument of issubdtype from `float` to `np.floating` is deprecated. In future, it will be treated as `np.float64 == np.dtype(float).type`.\n",
      "  from ._conv import register_converters as _register_converters\n",
      "Using TensorFlow backend.\n"
     ]
    },
    {
     "ename": "ImportError",
     "evalue": "Traceback (most recent call last):\n  File \"C:\\Users\\Jialang\\Anaconda3\\lib\\site-packages\\tensorflow\\python\\pywrap_tensorflow.py\", line 58, in <module>\n    from tensorflow.python.pywrap_tensorflow_internal import *\n  File \"C:\\Users\\Jialang\\Anaconda3\\lib\\site-packages\\tensorflow\\python\\pywrap_tensorflow_internal.py\", line 28, in <module>\n    _pywrap_tensorflow_internal = swig_import_helper()\n  File \"C:\\Users\\Jialang\\Anaconda3\\lib\\site-packages\\tensorflow\\python\\pywrap_tensorflow_internal.py\", line 24, in swig_import_helper\n    _mod = imp.load_module('_pywrap_tensorflow_internal', fp, pathname, description)\n  File \"C:\\Users\\Jialang\\Anaconda3\\lib\\imp.py\", line 243, in load_module\n    return load_dynamic(name, filename, file)\n  File \"C:\\Users\\Jialang\\Anaconda3\\lib\\imp.py\", line 343, in load_dynamic\n    return _load(spec)\nImportError: DLL load failed: The specified module could not be found.\n\n\nFailed to load the native TensorFlow runtime.\n\nSee https://www.tensorflow.org/install/errors\n\nfor some common reasons and solutions.  Include the entire stack trace\nabove this error message when asking for help.",
     "output_type": "error",
     "traceback": [
      "\u001b[1;31m---------------------------------------------------------------------------\u001b[0m",
      "\u001b[1;31mImportError\u001b[0m                               Traceback (most recent call last)",
      "\u001b[1;32m~\\Anaconda3\\lib\\site-packages\\tensorflow\\python\\pywrap_tensorflow.py\u001b[0m in \u001b[0;36m<module>\u001b[1;34m()\u001b[0m\n\u001b[0;32m     57\u001b[0m \u001b[1;33m\u001b[0m\u001b[0m\n\u001b[1;32m---> 58\u001b[1;33m   \u001b[1;32mfrom\u001b[0m \u001b[0mtensorflow\u001b[0m\u001b[1;33m.\u001b[0m\u001b[0mpython\u001b[0m\u001b[1;33m.\u001b[0m\u001b[0mpywrap_tensorflow_internal\u001b[0m \u001b[1;32mimport\u001b[0m \u001b[1;33m*\u001b[0m\u001b[1;33m\u001b[0m\u001b[0m\n\u001b[0m\u001b[0;32m     59\u001b[0m   \u001b[1;32mfrom\u001b[0m \u001b[0mtensorflow\u001b[0m\u001b[1;33m.\u001b[0m\u001b[0mpython\u001b[0m\u001b[1;33m.\u001b[0m\u001b[0mpywrap_tensorflow_internal\u001b[0m \u001b[1;32mimport\u001b[0m \u001b[0m__version__\u001b[0m\u001b[1;33m\u001b[0m\u001b[0m\n",
      "\u001b[1;32m~\\Anaconda3\\lib\\site-packages\\tensorflow\\python\\pywrap_tensorflow_internal.py\u001b[0m in \u001b[0;36m<module>\u001b[1;34m()\u001b[0m\n\u001b[0;32m     27\u001b[0m             \u001b[1;32mreturn\u001b[0m \u001b[0m_mod\u001b[0m\u001b[1;33m\u001b[0m\u001b[0m\n\u001b[1;32m---> 28\u001b[1;33m     \u001b[0m_pywrap_tensorflow_internal\u001b[0m \u001b[1;33m=\u001b[0m \u001b[0mswig_import_helper\u001b[0m\u001b[1;33m(\u001b[0m\u001b[1;33m)\u001b[0m\u001b[1;33m\u001b[0m\u001b[0m\n\u001b[0m\u001b[0;32m     29\u001b[0m     \u001b[1;32mdel\u001b[0m \u001b[0mswig_import_helper\u001b[0m\u001b[1;33m\u001b[0m\u001b[0m\n",
      "\u001b[1;32m~\\Anaconda3\\lib\\site-packages\\tensorflow\\python\\pywrap_tensorflow_internal.py\u001b[0m in \u001b[0;36mswig_import_helper\u001b[1;34m()\u001b[0m\n\u001b[0;32m     23\u001b[0m             \u001b[1;32mtry\u001b[0m\u001b[1;33m:\u001b[0m\u001b[1;33m\u001b[0m\u001b[0m\n\u001b[1;32m---> 24\u001b[1;33m                 \u001b[0m_mod\u001b[0m \u001b[1;33m=\u001b[0m \u001b[0mimp\u001b[0m\u001b[1;33m.\u001b[0m\u001b[0mload_module\u001b[0m\u001b[1;33m(\u001b[0m\u001b[1;34m'_pywrap_tensorflow_internal'\u001b[0m\u001b[1;33m,\u001b[0m \u001b[0mfp\u001b[0m\u001b[1;33m,\u001b[0m \u001b[0mpathname\u001b[0m\u001b[1;33m,\u001b[0m \u001b[0mdescription\u001b[0m\u001b[1;33m)\u001b[0m\u001b[1;33m\u001b[0m\u001b[0m\n\u001b[0m\u001b[0;32m     25\u001b[0m             \u001b[1;32mfinally\u001b[0m\u001b[1;33m:\u001b[0m\u001b[1;33m\u001b[0m\u001b[0m\n",
      "\u001b[1;32m~\\Anaconda3\\lib\\imp.py\u001b[0m in \u001b[0;36mload_module\u001b[1;34m(name, file, filename, details)\u001b[0m\n\u001b[0;32m    242\u001b[0m         \u001b[1;32melse\u001b[0m\u001b[1;33m:\u001b[0m\u001b[1;33m\u001b[0m\u001b[0m\n\u001b[1;32m--> 243\u001b[1;33m             \u001b[1;32mreturn\u001b[0m \u001b[0mload_dynamic\u001b[0m\u001b[1;33m(\u001b[0m\u001b[0mname\u001b[0m\u001b[1;33m,\u001b[0m \u001b[0mfilename\u001b[0m\u001b[1;33m,\u001b[0m \u001b[0mfile\u001b[0m\u001b[1;33m)\u001b[0m\u001b[1;33m\u001b[0m\u001b[0m\n\u001b[0m\u001b[0;32m    244\u001b[0m     \u001b[1;32melif\u001b[0m \u001b[0mtype_\u001b[0m \u001b[1;33m==\u001b[0m \u001b[0mPKG_DIRECTORY\u001b[0m\u001b[1;33m:\u001b[0m\u001b[1;33m\u001b[0m\u001b[0m\n",
      "\u001b[1;32m~\\Anaconda3\\lib\\imp.py\u001b[0m in \u001b[0;36mload_dynamic\u001b[1;34m(name, path, file)\u001b[0m\n\u001b[0;32m    342\u001b[0m             name=name, loader=loader, origin=path)\n\u001b[1;32m--> 343\u001b[1;33m         \u001b[1;32mreturn\u001b[0m \u001b[0m_load\u001b[0m\u001b[1;33m(\u001b[0m\u001b[0mspec\u001b[0m\u001b[1;33m)\u001b[0m\u001b[1;33m\u001b[0m\u001b[0m\n\u001b[0m\u001b[0;32m    344\u001b[0m \u001b[1;33m\u001b[0m\u001b[0m\n",
      "\u001b[1;31mImportError\u001b[0m: DLL load failed: The specified module could not be found.",
      "\nDuring handling of the above exception, another exception occurred:\n",
      "\u001b[1;31mImportError\u001b[0m                               Traceback (most recent call last)",
      "\u001b[1;32m<ipython-input-338-d76568767ae8>\u001b[0m in \u001b[0;36m<module>\u001b[1;34m()\u001b[0m\n\u001b[0;32m      1\u001b[0m \u001b[1;31m## reshape the data for CNN model\u001b[0m\u001b[1;33m\u001b[0m\u001b[1;33m\u001b[0m\u001b[0m\n\u001b[0;32m      2\u001b[0m \u001b[1;32mimport\u001b[0m \u001b[0mnumpy\u001b[0m \u001b[1;32mas\u001b[0m \u001b[0mnp\u001b[0m\u001b[1;33m\u001b[0m\u001b[0m\n\u001b[1;32m----> 3\u001b[1;33m \u001b[1;32mfrom\u001b[0m \u001b[0mkeras\u001b[0m\u001b[1;33m.\u001b[0m\u001b[0mutils\u001b[0m \u001b[1;32mimport\u001b[0m \u001b[0mto_categorical\u001b[0m\u001b[1;33m\u001b[0m\u001b[0m\n\u001b[0m\u001b[0;32m      4\u001b[0m \u001b[1;32mimport\u001b[0m \u001b[0mmatplotlib\u001b[0m\u001b[1;33m.\u001b[0m\u001b[0mpyplot\u001b[0m \u001b[1;32mas\u001b[0m \u001b[0mplt\u001b[0m\u001b[1;33m\u001b[0m\u001b[0m\n\u001b[0;32m      5\u001b[0m \u001b[0mget_ipython\u001b[0m\u001b[1;33m(\u001b[0m\u001b[1;33m)\u001b[0m\u001b[1;33m.\u001b[0m\u001b[0mrun_line_magic\u001b[0m\u001b[1;33m(\u001b[0m\u001b[1;34m'matplotlib'\u001b[0m\u001b[1;33m,\u001b[0m \u001b[1;34m'inline'\u001b[0m\u001b[1;33m)\u001b[0m\u001b[1;33m\u001b[0m\u001b[0m\n",
      "\u001b[1;32m~\\Anaconda3\\lib\\site-packages\\keras\\__init__.py\u001b[0m in \u001b[0;36m<module>\u001b[1;34m()\u001b[0m\n\u001b[0;32m      1\u001b[0m \u001b[1;32mfrom\u001b[0m \u001b[0m__future__\u001b[0m \u001b[1;32mimport\u001b[0m \u001b[0mabsolute_import\u001b[0m\u001b[1;33m\u001b[0m\u001b[0m\n\u001b[0;32m      2\u001b[0m \u001b[1;33m\u001b[0m\u001b[0m\n\u001b[1;32m----> 3\u001b[1;33m \u001b[1;32mfrom\u001b[0m \u001b[1;33m.\u001b[0m \u001b[1;32mimport\u001b[0m \u001b[0mutils\u001b[0m\u001b[1;33m\u001b[0m\u001b[0m\n\u001b[0m\u001b[0;32m      4\u001b[0m \u001b[1;32mfrom\u001b[0m \u001b[1;33m.\u001b[0m \u001b[1;32mimport\u001b[0m \u001b[0mactivations\u001b[0m\u001b[1;33m\u001b[0m\u001b[0m\n\u001b[0;32m      5\u001b[0m \u001b[1;32mfrom\u001b[0m \u001b[1;33m.\u001b[0m \u001b[1;32mimport\u001b[0m \u001b[0mapplications\u001b[0m\u001b[1;33m\u001b[0m\u001b[0m\n",
      "\u001b[1;32m~\\Anaconda3\\lib\\site-packages\\keras\\utils\\__init__.py\u001b[0m in \u001b[0;36m<module>\u001b[1;34m()\u001b[0m\n\u001b[0;32m      4\u001b[0m \u001b[1;32mfrom\u001b[0m \u001b[1;33m.\u001b[0m \u001b[1;32mimport\u001b[0m \u001b[0mdata_utils\u001b[0m\u001b[1;33m\u001b[0m\u001b[0m\n\u001b[0;32m      5\u001b[0m \u001b[1;32mfrom\u001b[0m \u001b[1;33m.\u001b[0m \u001b[1;32mimport\u001b[0m \u001b[0mio_utils\u001b[0m\u001b[1;33m\u001b[0m\u001b[0m\n\u001b[1;32m----> 6\u001b[1;33m \u001b[1;32mfrom\u001b[0m \u001b[1;33m.\u001b[0m \u001b[1;32mimport\u001b[0m \u001b[0mconv_utils\u001b[0m\u001b[1;33m\u001b[0m\u001b[0m\n\u001b[0m\u001b[0;32m      7\u001b[0m \u001b[1;33m\u001b[0m\u001b[0m\n\u001b[0;32m      8\u001b[0m \u001b[1;31m# Globally-importable utils.\u001b[0m\u001b[1;33m\u001b[0m\u001b[1;33m\u001b[0m\u001b[0m\n",
      "\u001b[1;32m~\\Anaconda3\\lib\\site-packages\\keras\\utils\\conv_utils.py\u001b[0m in \u001b[0;36m<module>\u001b[1;34m()\u001b[0m\n\u001b[0;32m      7\u001b[0m \u001b[1;32mfrom\u001b[0m \u001b[0msix\u001b[0m\u001b[1;33m.\u001b[0m\u001b[0mmoves\u001b[0m \u001b[1;32mimport\u001b[0m \u001b[0mrange\u001b[0m\u001b[1;33m\u001b[0m\u001b[0m\n\u001b[0;32m      8\u001b[0m \u001b[1;32mimport\u001b[0m \u001b[0mnumpy\u001b[0m \u001b[1;32mas\u001b[0m \u001b[0mnp\u001b[0m\u001b[1;33m\u001b[0m\u001b[0m\n\u001b[1;32m----> 9\u001b[1;33m \u001b[1;32mfrom\u001b[0m \u001b[1;33m.\u001b[0m\u001b[1;33m.\u001b[0m \u001b[1;32mimport\u001b[0m \u001b[0mbackend\u001b[0m \u001b[1;32mas\u001b[0m \u001b[0mK\u001b[0m\u001b[1;33m\u001b[0m\u001b[0m\n\u001b[0m\u001b[0;32m     10\u001b[0m \u001b[1;33m\u001b[0m\u001b[0m\n\u001b[0;32m     11\u001b[0m \u001b[1;33m\u001b[0m\u001b[0m\n",
      "\u001b[1;32m~\\Anaconda3\\lib\\site-packages\\keras\\backend\\__init__.py\u001b[0m in \u001b[0;36m<module>\u001b[1;34m()\u001b[0m\n\u001b[0;32m     87\u001b[0m \u001b[1;32melif\u001b[0m \u001b[0m_BACKEND\u001b[0m \u001b[1;33m==\u001b[0m \u001b[1;34m'tensorflow'\u001b[0m\u001b[1;33m:\u001b[0m\u001b[1;33m\u001b[0m\u001b[0m\n\u001b[0;32m     88\u001b[0m     \u001b[0msys\u001b[0m\u001b[1;33m.\u001b[0m\u001b[0mstderr\u001b[0m\u001b[1;33m.\u001b[0m\u001b[0mwrite\u001b[0m\u001b[1;33m(\u001b[0m\u001b[1;34m'Using TensorFlow backend.\\n'\u001b[0m\u001b[1;33m)\u001b[0m\u001b[1;33m\u001b[0m\u001b[0m\n\u001b[1;32m---> 89\u001b[1;33m     \u001b[1;32mfrom\u001b[0m \u001b[1;33m.\u001b[0m\u001b[0mtensorflow_backend\u001b[0m \u001b[1;32mimport\u001b[0m \u001b[1;33m*\u001b[0m\u001b[1;33m\u001b[0m\u001b[0m\n\u001b[0m\u001b[0;32m     90\u001b[0m \u001b[1;32melse\u001b[0m\u001b[1;33m:\u001b[0m\u001b[1;33m\u001b[0m\u001b[0m\n\u001b[0;32m     91\u001b[0m     \u001b[1;31m# Try and load external backend.\u001b[0m\u001b[1;33m\u001b[0m\u001b[1;33m\u001b[0m\u001b[0m\n",
      "\u001b[1;32m~\\Anaconda3\\lib\\site-packages\\keras\\backend\\tensorflow_backend.py\u001b[0m in \u001b[0;36m<module>\u001b[1;34m()\u001b[0m\n\u001b[0;32m      3\u001b[0m \u001b[1;32mfrom\u001b[0m \u001b[0m__future__\u001b[0m \u001b[1;32mimport\u001b[0m \u001b[0mprint_function\u001b[0m\u001b[1;33m\u001b[0m\u001b[0m\n\u001b[0;32m      4\u001b[0m \u001b[1;33m\u001b[0m\u001b[0m\n\u001b[1;32m----> 5\u001b[1;33m \u001b[1;32mimport\u001b[0m \u001b[0mtensorflow\u001b[0m \u001b[1;32mas\u001b[0m \u001b[0mtf\u001b[0m\u001b[1;33m\u001b[0m\u001b[0m\n\u001b[0m\u001b[0;32m      6\u001b[0m \u001b[1;32mfrom\u001b[0m \u001b[0mtensorflow\u001b[0m\u001b[1;33m.\u001b[0m\u001b[0mpython\u001b[0m\u001b[1;33m.\u001b[0m\u001b[0mframework\u001b[0m \u001b[1;32mimport\u001b[0m \u001b[0mops\u001b[0m \u001b[1;32mas\u001b[0m \u001b[0mtf_ops\u001b[0m\u001b[1;33m\u001b[0m\u001b[0m\n\u001b[0;32m      7\u001b[0m \u001b[1;32mfrom\u001b[0m \u001b[0mtensorflow\u001b[0m\u001b[1;33m.\u001b[0m\u001b[0mpython\u001b[0m\u001b[1;33m.\u001b[0m\u001b[0mtraining\u001b[0m \u001b[1;32mimport\u001b[0m \u001b[0mmoving_averages\u001b[0m\u001b[1;33m\u001b[0m\u001b[0m\n",
      "\u001b[1;32m~\\Anaconda3\\lib\\site-packages\\tensorflow\\__init__.py\u001b[0m in \u001b[0;36m<module>\u001b[1;34m()\u001b[0m\n\u001b[0;32m     22\u001b[0m \u001b[1;33m\u001b[0m\u001b[0m\n\u001b[0;32m     23\u001b[0m \u001b[1;31m# pylint: disable=g-bad-import-order\u001b[0m\u001b[1;33m\u001b[0m\u001b[1;33m\u001b[0m\u001b[0m\n\u001b[1;32m---> 24\u001b[1;33m \u001b[1;32mfrom\u001b[0m \u001b[0mtensorflow\u001b[0m\u001b[1;33m.\u001b[0m\u001b[0mpython\u001b[0m \u001b[1;32mimport\u001b[0m \u001b[0mpywrap_tensorflow\u001b[0m  \u001b[1;31m# pylint: disable=unused-import\u001b[0m\u001b[1;33m\u001b[0m\u001b[0m\n\u001b[0m\u001b[0;32m     25\u001b[0m \u001b[1;33m\u001b[0m\u001b[0m\n\u001b[0;32m     26\u001b[0m \u001b[1;32mtry\u001b[0m\u001b[1;33m:\u001b[0m\u001b[1;33m\u001b[0m\u001b[0m\n",
      "\u001b[1;32m~\\Anaconda3\\lib\\site-packages\\tensorflow\\python\\__init__.py\u001b[0m in \u001b[0;36m<module>\u001b[1;34m()\u001b[0m\n\u001b[0;32m     47\u001b[0m \u001b[1;32mimport\u001b[0m \u001b[0mnumpy\u001b[0m \u001b[1;32mas\u001b[0m \u001b[0mnp\u001b[0m\u001b[1;33m\u001b[0m\u001b[0m\n\u001b[0;32m     48\u001b[0m \u001b[1;33m\u001b[0m\u001b[0m\n\u001b[1;32m---> 49\u001b[1;33m \u001b[1;32mfrom\u001b[0m \u001b[0mtensorflow\u001b[0m\u001b[1;33m.\u001b[0m\u001b[0mpython\u001b[0m \u001b[1;32mimport\u001b[0m \u001b[0mpywrap_tensorflow\u001b[0m\u001b[1;33m\u001b[0m\u001b[0m\n\u001b[0m\u001b[0;32m     50\u001b[0m \u001b[1;33m\u001b[0m\u001b[0m\n\u001b[0;32m     51\u001b[0m \u001b[1;32mfrom\u001b[0m \u001b[0mtensorflow\u001b[0m\u001b[1;33m.\u001b[0m\u001b[0mpython\u001b[0m\u001b[1;33m.\u001b[0m\u001b[0mtools\u001b[0m \u001b[1;32mimport\u001b[0m \u001b[0mcomponent_api_helper\u001b[0m\u001b[1;33m\u001b[0m\u001b[0m\n",
      "\u001b[1;32m~\\Anaconda3\\lib\\site-packages\\tensorflow\\python\\pywrap_tensorflow.py\u001b[0m in \u001b[0;36m<module>\u001b[1;34m()\u001b[0m\n\u001b[0;32m     72\u001b[0m \u001b[1;32mfor\u001b[0m \u001b[0msome\u001b[0m \u001b[0mcommon\u001b[0m \u001b[0mreasons\u001b[0m \u001b[1;32mand\u001b[0m \u001b[0msolutions\u001b[0m\u001b[1;33m.\u001b[0m  \u001b[0mInclude\u001b[0m \u001b[0mthe\u001b[0m \u001b[0mentire\u001b[0m \u001b[0mstack\u001b[0m \u001b[0mtrace\u001b[0m\u001b[1;33m\u001b[0m\u001b[0m\n\u001b[0;32m     73\u001b[0m above this error message when asking for help.\"\"\" % traceback.format_exc()\n\u001b[1;32m---> 74\u001b[1;33m   \u001b[1;32mraise\u001b[0m \u001b[0mImportError\u001b[0m\u001b[1;33m(\u001b[0m\u001b[0mmsg\u001b[0m\u001b[1;33m)\u001b[0m\u001b[1;33m\u001b[0m\u001b[0m\n\u001b[0m\u001b[0;32m     75\u001b[0m \u001b[1;33m\u001b[0m\u001b[0m\n\u001b[0;32m     76\u001b[0m \u001b[1;31m# pylint: enable=wildcard-import,g-import-not-at-top,unused-import,line-too-long\u001b[0m\u001b[1;33m\u001b[0m\u001b[1;33m\u001b[0m\u001b[0m\n",
      "\u001b[1;31mImportError\u001b[0m: Traceback (most recent call last):\n  File \"C:\\Users\\Jialang\\Anaconda3\\lib\\site-packages\\tensorflow\\python\\pywrap_tensorflow.py\", line 58, in <module>\n    from tensorflow.python.pywrap_tensorflow_internal import *\n  File \"C:\\Users\\Jialang\\Anaconda3\\lib\\site-packages\\tensorflow\\python\\pywrap_tensorflow_internal.py\", line 28, in <module>\n    _pywrap_tensorflow_internal = swig_import_helper()\n  File \"C:\\Users\\Jialang\\Anaconda3\\lib\\site-packages\\tensorflow\\python\\pywrap_tensorflow_internal.py\", line 24, in swig_import_helper\n    _mod = imp.load_module('_pywrap_tensorflow_internal', fp, pathname, description)\n  File \"C:\\Users\\Jialang\\Anaconda3\\lib\\imp.py\", line 243, in load_module\n    return load_dynamic(name, filename, file)\n  File \"C:\\Users\\Jialang\\Anaconda3\\lib\\imp.py\", line 343, in load_dynamic\n    return _load(spec)\nImportError: DLL load failed: The specified module could not be found.\n\n\nFailed to load the native TensorFlow runtime.\n\nSee https://www.tensorflow.org/install/errors\n\nfor some common reasons and solutions.  Include the entire stack trace\nabove this error message when asking for help."
     ]
    }
   ],
   "source": [
    "## reshape and normalize the data for CNN model\n",
    "import numpy as np\n",
    "from keras.utils import to_categorical\n",
    "import matplotlib.pyplot as plt\n",
    "%matplotlib inline\n",
    "\n",
    "cnn_train_X= X_train\n",
    "cnn_train_Y = y_train\n",
    "\n",
    "cnn_test_X = X_test\n",
    "cnn_test_Y = y_test\n",
    "\n",
    "cnn_train_X = cnn_train_X.reshape(-1, 28,28, 1)\n",
    "cnn_test_X = cnn_test_X.reshape(-1, 28,28, 1)\n",
    "cnn_train_X.shape, cnn_train_X.shape\n",
    "\n",
    "# Change the labels from categorical to one-hot encoding\n",
    "cnn_train_Y = to_categorical(cnn_train_Y)\n",
    "cnn_test_Y = to_categorical(cnn_test_Y)\n",
    "\n",
    "\n",
    "cnn_train_X = cnn_train_X.astype('float32')\n",
    "cnn_test_X = cnn_test_X.astype('float32')\n",
    "cnn_train_X = cnn_train_X / 255.\n",
    "cnn_test_X = cnn_test_X / 255.\n",
    "\n",
    "#seperate the data set\n",
    "from sklearn.model_selection import train_test_split\n",
    "cnn_train_X,cnn_valid_X,cnn_train_label,cnn_valid_label = train_test_split(cnn_train_X, cnn_train_Y, test_size=0.2, random_state=13)\n",
    "cnn_train_X.shape,cnn_valid_X.shape,cnn_train_label.shape,cnn_valid_label.shape\n",
    "\n"
   ]
  },
  {
   "cell_type": "code",
   "execution_count": 394,
   "metadata": {},
   "outputs": [
    {
     "name": "stdout",
     "output_type": "stream",
     "text": [
      "Train on 48000 samples, validate on 12000 samples\n",
      "Epoch 1/100\n",
      "48000/48000 [==============================] - 20s 406us/step - loss: 2.3218 - acc: 0.0985 - val_loss: 2.3028 - val_acc: 0.0992\n",
      "Epoch 2/100\n",
      "48000/48000 [==============================] - 11s 236us/step - loss: 2.3038 - acc: 0.1012 - val_loss: 2.3062 - val_acc: 0.0993\n",
      "Epoch 3/100\n",
      "48000/48000 [==============================] - 10s 206us/step - loss: 1.5015 - acc: 0.4201 - val_loss: 0.7067 - val_acc: 0.7208\n",
      "Epoch 4/100\n",
      "48000/48000 [==============================] - 10s 200us/step - loss: 0.6102 - acc: 0.7681 - val_loss: 0.5528 - val_acc: 0.7930\n",
      "Epoch 5/100\n",
      "48000/48000 [==============================] - 9s 182us/step - loss: 0.5135 - acc: 0.8072 - val_loss: 0.4850 - val_acc: 0.8229\n",
      "Epoch 6/100\n",
      "48000/48000 [==============================] - 8s 168us/step - loss: 0.4626 - acc: 0.8284 - val_loss: 0.4595 - val_acc: 0.8348\n",
      "Epoch 7/100\n",
      "48000/48000 [==============================] - 8s 166us/step - loss: 0.4297 - acc: 0.8431 - val_loss: 0.4160 - val_acc: 0.8517\n",
      "Epoch 8/100\n",
      "48000/48000 [==============================] - 8s 160us/step - loss: 0.4072 - acc: 0.8493 - val_loss: 0.4251 - val_acc: 0.8508\n",
      "Epoch 9/100\n",
      "48000/48000 [==============================] - 8s 174us/step - loss: 0.3914 - acc: 0.8565 - val_loss: 0.3850 - val_acc: 0.8644\n",
      "Epoch 10/100\n",
      "48000/48000 [==============================] - 10s 204us/step - loss: 0.3747 - acc: 0.8613 - val_loss: 0.3736 - val_acc: 0.8665\n",
      "Epoch 11/100\n",
      "48000/48000 [==============================] - 11s 232us/step - loss: 0.3617 - acc: 0.8665 - val_loss: 0.3673 - val_acc: 0.8666\n",
      "Epoch 12/100\n",
      "48000/48000 [==============================] - 11s 238us/step - loss: 0.3521 - acc: 0.8698 - val_loss: 0.3588 - val_acc: 0.8691\n",
      "Epoch 13/100\n",
      "48000/48000 [==============================] - 12s 245us/step - loss: 0.3422 - acc: 0.8736 - val_loss: 0.3741 - val_acc: 0.8615\n",
      "Epoch 14/100\n",
      "48000/48000 [==============================] - 11s 228us/step - loss: 0.3340 - acc: 0.8757 - val_loss: 0.3503 - val_acc: 0.8728\n",
      "Epoch 15/100\n",
      "48000/48000 [==============================] - 10s 202us/step - loss: 0.3270 - acc: 0.8779 - val_loss: 0.3335 - val_acc: 0.8784\n",
      "Epoch 16/100\n",
      "48000/48000 [==============================] - 11s 222us/step - loss: 0.3185 - acc: 0.8818 - val_loss: 0.3450 - val_acc: 0.8732\n",
      "Epoch 17/100\n",
      "48000/48000 [==============================] - 11s 228us/step - loss: 0.3124 - acc: 0.8831 - val_loss: 0.3348 - val_acc: 0.8764\n",
      "Epoch 18/100\n",
      "48000/48000 [==============================] - 11s 225us/step - loss: 0.3062 - acc: 0.8857 - val_loss: 0.3471 - val_acc: 0.8740\n",
      "Epoch 19/100\n",
      "48000/48000 [==============================] - 11s 226us/step - loss: 0.3037 - acc: 0.8858 - val_loss: 0.3279 - val_acc: 0.8794\n",
      "Epoch 20/100\n",
      "48000/48000 [==============================] - 10s 208us/step - loss: 0.2958 - acc: 0.8890 - val_loss: 0.3274 - val_acc: 0.8806\n",
      "Epoch 21/100\n",
      "48000/48000 [==============================] - 9s 198us/step - loss: 0.2933 - acc: 0.8899 - val_loss: 0.3250 - val_acc: 0.8805\n",
      "Epoch 22/100\n",
      "48000/48000 [==============================] - 10s 212us/step - loss: 0.2869 - acc: 0.8925 - val_loss: 0.3253 - val_acc: 0.8827\n",
      "Epoch 23/100\n",
      "48000/48000 [==============================] - 11s 228us/step - loss: 0.2839 - acc: 0.8942 - val_loss: 0.3175 - val_acc: 0.8815\n",
      "Epoch 24/100\n",
      "48000/48000 [==============================] - 10s 207us/step - loss: 0.2791 - acc: 0.8956 - val_loss: 0.3323 - val_acc: 0.8802\n",
      "Epoch 25/100\n",
      "48000/48000 [==============================] - 11s 230us/step - loss: 0.2737 - acc: 0.8973 - val_loss: 0.3225 - val_acc: 0.8802\n",
      "Epoch 26/100\n",
      "48000/48000 [==============================] - 11s 235us/step - loss: 0.2702 - acc: 0.8980 - val_loss: 0.3154 - val_acc: 0.8859\n",
      "Epoch 27/100\n",
      "48000/48000 [==============================] - 11s 230us/step - loss: 0.2673 - acc: 0.8983 - val_loss: 0.3049 - val_acc: 0.8870\n",
      "Epoch 28/100\n",
      "48000/48000 [==============================] - 12s 240us/step - loss: 0.2628 - acc: 0.9006 - val_loss: 0.3288 - val_acc: 0.8788\n",
      "Epoch 29/100\n",
      "48000/48000 [==============================] - 10s 211us/step - loss: 0.2581 - acc: 0.9027 - val_loss: 0.3015 - val_acc: 0.8898\n",
      "Epoch 30/100\n",
      "48000/48000 [==============================] - 10s 218us/step - loss: 0.2549 - acc: 0.9049 - val_loss: 0.3249 - val_acc: 0.8822\n",
      "Epoch 31/100\n",
      "48000/48000 [==============================] - 11s 220us/step - loss: 0.2516 - acc: 0.9051 - val_loss: 0.3039 - val_acc: 0.8879\n",
      "Epoch 32/100\n",
      "48000/48000 [==============================] - 11s 219us/step - loss: 0.2480 - acc: 0.9072 - val_loss: 0.2991 - val_acc: 0.8904\n",
      "Epoch 33/100\n",
      "48000/48000 [==============================] - 10s 213us/step - loss: 0.2452 - acc: 0.9064 - val_loss: 0.3055 - val_acc: 0.8881\n",
      "Epoch 34/100\n",
      "48000/48000 [==============================] - 10s 198us/step - loss: 0.2410 - acc: 0.9085 - val_loss: 0.2917 - val_acc: 0.8935\n",
      "Epoch 35/100\n",
      "48000/48000 [==============================] - 10s 214us/step - loss: 0.2375 - acc: 0.9106 - val_loss: 0.2946 - val_acc: 0.8928\n",
      "Epoch 36/100\n",
      "48000/48000 [==============================] - 11s 225us/step - loss: 0.2340 - acc: 0.9111 - val_loss: 0.2855 - val_acc: 0.8947\n",
      "Epoch 37/100\n",
      "48000/48000 [==============================] - 11s 220us/step - loss: 0.2304 - acc: 0.9123 - val_loss: 0.3024 - val_acc: 0.8922\n",
      "Epoch 38/100\n",
      "48000/48000 [==============================] - 11s 226us/step - loss: 0.2274 - acc: 0.9135 - val_loss: 0.3021 - val_acc: 0.8907\n",
      "Epoch 39/100\n",
      "48000/48000 [==============================] - 10s 214us/step - loss: 0.2245 - acc: 0.9158 - val_loss: 0.2934 - val_acc: 0.8902\n",
      "Epoch 40/100\n",
      "48000/48000 [==============================] - 11s 223us/step - loss: 0.2209 - acc: 0.9165 - val_loss: 0.2881 - val_acc: 0.8953\n",
      "Epoch 41/100\n",
      "48000/48000 [==============================] - 11s 232us/step - loss: 0.2166 - acc: 0.9184 - val_loss: 0.2912 - val_acc: 0.8920\n",
      "Epoch 42/100\n",
      "48000/48000 [==============================] - 11s 230us/step - loss: 0.2148 - acc: 0.9200 - val_loss: 0.2875 - val_acc: 0.8954\n",
      "Epoch 43/100\n",
      "48000/48000 [==============================] - 11s 237us/step - loss: 0.2125 - acc: 0.9200 - val_loss: 0.2867 - val_acc: 0.8966\n",
      "Epoch 44/100\n",
      "48000/48000 [==============================] - 11s 223us/step - loss: 0.2094 - acc: 0.9207 - val_loss: 0.2924 - val_acc: 0.8948\n",
      "Epoch 45/100\n",
      "48000/48000 [==============================] - 9s 188us/step - loss: 0.2046 - acc: 0.9225 - val_loss: 0.2831 - val_acc: 0.8979\n",
      "Epoch 46/100\n",
      "48000/48000 [==============================] - 8s 170us/step - loss: 0.2037 - acc: 0.9227 - val_loss: 0.2814 - val_acc: 0.9012\n",
      "Epoch 47/100\n",
      "48000/48000 [==============================] - 8s 159us/step - loss: 0.2017 - acc: 0.9229 - val_loss: 0.2843 - val_acc: 0.9000\n",
      "Epoch 48/100\n",
      "48000/48000 [==============================] - 7s 153us/step - loss: 0.1981 - acc: 0.9237 - val_loss: 0.2798 - val_acc: 0.8992\n",
      "Epoch 49/100\n",
      "48000/48000 [==============================] - 8s 157us/step - loss: 0.1948 - acc: 0.9255 - val_loss: 0.2843 - val_acc: 0.8973\n",
      "Epoch 50/100\n",
      "48000/48000 [==============================] - 8s 157us/step - loss: 0.1925 - acc: 0.9270 - val_loss: 0.2777 - val_acc: 0.9017\n",
      "Epoch 51/100\n",
      "48000/48000 [==============================] - 9s 183us/step - loss: 0.1894 - acc: 0.9276 - val_loss: 0.2820 - val_acc: 0.9003\n",
      "Epoch 52/100\n",
      "48000/48000 [==============================] - 8s 170us/step - loss: 0.1876 - acc: 0.9283 - val_loss: 0.2919 - val_acc: 0.8968\n",
      "Epoch 53/100\n",
      "48000/48000 [==============================] - 8s 168us/step - loss: 0.1834 - acc: 0.9304 - val_loss: 0.2932 - val_acc: 0.8971\n",
      "Epoch 54/100\n",
      "48000/48000 [==============================] - 8s 165us/step - loss: 0.1803 - acc: 0.9306 - val_loss: 0.2979 - val_acc: 0.8948\n",
      "Epoch 55/100\n",
      "48000/48000 [==============================] - 10s 217us/step - loss: 0.1797 - acc: 0.9321 - val_loss: 0.2921 - val_acc: 0.8983\n",
      "Epoch 56/100\n",
      "48000/48000 [==============================] - 11s 229us/step - loss: 0.1750 - acc: 0.9335 - val_loss: 0.2966 - val_acc: 0.8973\n",
      "Epoch 57/100\n",
      "48000/48000 [==============================] - 11s 230us/step - loss: 0.1736 - acc: 0.9344 - val_loss: 0.2855 - val_acc: 0.9015\n",
      "Epoch 58/100\n",
      "48000/48000 [==============================] - 11s 234us/step - loss: 0.1716 - acc: 0.9345 - val_loss: 0.2796 - val_acc: 0.9028\n"
     ]
    },
    {
     "name": "stdout",
     "output_type": "stream",
     "text": [
      "Epoch 59/100\n",
      "48000/48000 [==============================] - 11s 231us/step - loss: 0.1684 - acc: 0.9372 - val_loss: 0.2925 - val_acc: 0.8989\n",
      "Epoch 60/100\n",
      "48000/48000 [==============================] - 9s 196us/step - loss: 0.1645 - acc: 0.9367 - val_loss: 0.2942 - val_acc: 0.8990\n",
      "Epoch 61/100\n",
      "48000/48000 [==============================] - 10s 218us/step - loss: 0.1646 - acc: 0.9379 - val_loss: 0.2903 - val_acc: 0.9004\n",
      "Epoch 62/100\n",
      "48000/48000 [==============================] - 11s 229us/step - loss: 0.1618 - acc: 0.9380 - val_loss: 0.3013 - val_acc: 0.8986\n",
      "Epoch 63/100\n",
      "48000/48000 [==============================] - 11s 229us/step - loss: 0.1586 - acc: 0.9401 - val_loss: 0.2912 - val_acc: 0.9026\n",
      "Epoch 64/100\n",
      "48000/48000 [==============================] - 12s 244us/step - loss: 0.1569 - acc: 0.9411 - val_loss: 0.2892 - val_acc: 0.9010\n",
      "Epoch 65/100\n",
      "48000/48000 [==============================] - 11s 225us/step - loss: 0.1536 - acc: 0.9420 - val_loss: 0.2891 - val_acc: 0.9018\n",
      "Epoch 66/100\n",
      "48000/48000 [==============================] - 11s 227us/step - loss: 0.1500 - acc: 0.9437 - val_loss: 0.2853 - val_acc: 0.9038\n",
      "Epoch 67/100\n",
      "48000/48000 [==============================] - 11s 231us/step - loss: 0.1502 - acc: 0.9437 - val_loss: 0.3047 - val_acc: 0.9001\n",
      "Epoch 68/100\n",
      "48000/48000 [==============================] - 11s 231us/step - loss: 0.1470 - acc: 0.9453 - val_loss: 0.2924 - val_acc: 0.9016\n",
      "Epoch 69/100\n",
      "48000/48000 [==============================] - 10s 213us/step - loss: 0.1454 - acc: 0.9454 - val_loss: 0.3196 - val_acc: 0.8932\n",
      "Epoch 70/100\n",
      "48000/48000 [==============================] - 12s 240us/step - loss: 0.1412 - acc: 0.9468 - val_loss: 0.3017 - val_acc: 0.8991\n",
      "Epoch 71/100\n",
      "48000/48000 [==============================] - 12s 252us/step - loss: 0.1391 - acc: 0.9468 - val_loss: 0.2973 - val_acc: 0.9008\n",
      "Epoch 72/100\n",
      "48000/48000 [==============================] - 12s 251us/step - loss: 0.1372 - acc: 0.9478 - val_loss: 0.2977 - val_acc: 0.9011\n",
      "Epoch 73/100\n",
      "48000/48000 [==============================] - 13s 269us/step - loss: 0.1342 - acc: 0.9498 - val_loss: 0.2935 - val_acc: 0.9037\n",
      "Epoch 74/100\n",
      "48000/48000 [==============================] - 12s 248us/step - loss: 0.1351 - acc: 0.9495 - val_loss: 0.3143 - val_acc: 0.8952\n",
      "Epoch 75/100\n",
      "48000/48000 [==============================] - 11s 229us/step - loss: 0.1321 - acc: 0.9498 - val_loss: 0.2957 - val_acc: 0.9020\n",
      "Epoch 76/100\n",
      "48000/48000 [==============================] - 11s 230us/step - loss: 0.1272 - acc: 0.9523 - val_loss: 0.3131 - val_acc: 0.8999\n",
      "Epoch 77/100\n",
      "48000/48000 [==============================] - 10s 214us/step - loss: 0.1251 - acc: 0.9526 - val_loss: 0.2935 - val_acc: 0.9029\n",
      "Epoch 78/100\n",
      "48000/48000 [==============================] - 11s 223us/step - loss: 0.1232 - acc: 0.9539 - val_loss: 0.2969 - val_acc: 0.9026\n",
      "Epoch 79/100\n",
      "48000/48000 [==============================] - 11s 228us/step - loss: 0.1219 - acc: 0.9545 - val_loss: 0.3064 - val_acc: 0.9008\n",
      "Epoch 80/100\n",
      "48000/48000 [==============================] - 11s 221us/step - loss: 0.1193 - acc: 0.9557 - val_loss: 0.3419 - val_acc: 0.8906\n",
      "Epoch 81/100\n",
      "48000/48000 [==============================] - 11s 230us/step - loss: 0.1164 - acc: 0.9570 - val_loss: 0.3132 - val_acc: 0.9003\n",
      "Epoch 82/100\n",
      "48000/48000 [==============================] - 10s 214us/step - loss: 0.1143 - acc: 0.9577 - val_loss: 0.3025 - val_acc: 0.9039\n",
      "Epoch 83/100\n",
      "48000/48000 [==============================] - 10s 205us/step - loss: 0.1114 - acc: 0.9591 - val_loss: 0.3052 - val_acc: 0.9038\n",
      "Epoch 84/100\n",
      "48000/48000 [==============================] - 11s 223us/step - loss: 0.1112 - acc: 0.9593 - val_loss: 0.3012 - val_acc: 0.9039\n",
      "Epoch 85/100\n",
      "48000/48000 [==============================] - 11s 220us/step - loss: 0.1065 - acc: 0.9618 - val_loss: 0.3340 - val_acc: 0.8973\n",
      "Epoch 86/100\n",
      "48000/48000 [==============================] - 11s 219us/step - loss: 0.1060 - acc: 0.9616 - val_loss: 0.3222 - val_acc: 0.9005\n",
      "Epoch 87/100\n",
      "48000/48000 [==============================] - 11s 238us/step - loss: 0.1038 - acc: 0.9627 - val_loss: 0.3344 - val_acc: 0.8973\n",
      "Epoch 88/100\n",
      "48000/48000 [==============================] - 10s 199us/step - loss: 0.1023 - acc: 0.9628 - val_loss: 0.3236 - val_acc: 0.9002\n",
      "Epoch 89/100\n",
      "48000/48000 [==============================] - 8s 167us/step - loss: 0.0985 - acc: 0.9642 - val_loss: 0.3215 - val_acc: 0.9018\n",
      "Epoch 90/100\n",
      "48000/48000 [==============================] - 8s 156us/step - loss: 0.0996 - acc: 0.9639 - val_loss: 0.3112 - val_acc: 0.9063\n",
      "Epoch 91/100\n",
      "48000/48000 [==============================] - 7s 154us/step - loss: 0.0957 - acc: 0.9654 - val_loss: 0.3192 - val_acc: 0.9014\n",
      "Epoch 92/100\n",
      "48000/48000 [==============================] - 8s 163us/step - loss: 0.0939 - acc: 0.9666 - val_loss: 0.3176 - val_acc: 0.9033\n",
      "Epoch 93/100\n",
      "48000/48000 [==============================] - 8s 168us/step - loss: 0.0918 - acc: 0.9678 - val_loss: 0.3306 - val_acc: 0.9001\n",
      "Epoch 94/100\n",
      "48000/48000 [==============================] - 8s 165us/step - loss: 0.0901 - acc: 0.9679 - val_loss: 0.3302 - val_acc: 0.8999\n",
      "Epoch 95/100\n",
      "48000/48000 [==============================] - 8s 163us/step - loss: 0.0882 - acc: 0.9689 - val_loss: 0.3349 - val_acc: 0.8995\n",
      "Epoch 96/100\n",
      "48000/48000 [==============================] - 8s 164us/step - loss: 0.0860 - acc: 0.9693 - val_loss: 0.3232 - val_acc: 0.9041\n",
      "Epoch 97/100\n",
      "48000/48000 [==============================] - 10s 207us/step - loss: 0.0838 - acc: 0.9705 - val_loss: 0.3396 - val_acc: 0.9001\n",
      "Epoch 98/100\n",
      "48000/48000 [==============================] - 11s 226us/step - loss: 0.0825 - acc: 0.9705 - val_loss: 0.3340 - val_acc: 0.9032\n",
      "Epoch 99/100\n",
      "48000/48000 [==============================] - 11s 221us/step - loss: 0.0804 - acc: 0.9722 - val_loss: 0.3315 - val_acc: 0.9050\n",
      "Epoch 100/100\n",
      "48000/48000 [==============================] - 11s 227us/step - loss: 0.0801 - acc: 0.9710 - val_loss: 0.3637 - val_acc: 0.8957\n"
     ]
    },
    {
     "data": {
      "image/png": "[encoded data removed]",
      "text/plain": [
       "<Figure size 1080x360 with 2 Axes>"
      ]
     },
     "metadata": {
      "needs_background": "light"
     },
     "output_type": "display_data"
    },
    {
     "name": "stdout",
     "output_type": "stream",
     "text": [
      "10000/10000 [==============================] - 2s 231us/step\n",
      "Test loss: 0.3849374195381999\n",
      "Test accuracy: 0.8905\n"
     ]
    }
   ],
   "source": [
    "#set the hyper-parameter\n",
    "learning_rate = 0.4\n",
    "batch_size = 64\n",
    "epochs = 100\n",
    "\n",
    "my = CNN_model()\n",
    "my.setHyper_parameter(learning_rate,batch_size,epochs,'sigmoid')\n",
    "my.train_model(cnn_train_X,cnn_train_label,cnn_valid_X,cnn_valid_label)\n",
    "my.showGraph()\n",
    "my.predict(cnn_test_X,cnn_test_Y)"
   ]
  },
  {
   "cell_type": "code",
   "execution_count": null,
   "metadata": {},
   "outputs": [],
   "source": []
  }
 ],
 "metadata": {
  "colab": {
   "name": "cse.ipynb",
   "provenance": []
  },
  "kernelspec": {
   "display_name": "Python 3",
   "language": "python",
   "name": "python3"
  },
  "language_info": {
   "codemirror_mode": {
    "name": "ipython",
    "version": 3
   },
   "file_extension": ".py",
   "mimetype": "text/x-python",
   "name": "python",
   "nbconvert_exporter": "python",
   "pygments_lexer": "ipython3",
   "version": "3.6.5"
  }
 },
 "nbformat": 4,
 "nbformat_minor": 1
}
